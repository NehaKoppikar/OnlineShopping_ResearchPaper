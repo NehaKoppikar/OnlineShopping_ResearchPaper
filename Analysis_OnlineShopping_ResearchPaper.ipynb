{
  "nbformat": 4,
  "nbformat_minor": 0,
  "metadata": {
    "colab": {
      "name": "Analysis_OnlineShopping_ResearchPaper.ipynb",
      "provenance": [],
      "collapsed_sections": [],
      "authorship_tag": "ABX9TyMJv+BSJSS08q9iAuGDBqTj",
      "include_colab_link": true
    },
    "kernelspec": {
      "name": "python3",
      "display_name": "Python 3"
    },
    "language_info": {
      "name": "python"
    }
  },
  "cells": [
    {
      "cell_type": "markdown",
      "metadata": {
        "id": "view-in-github",
        "colab_type": "text"
      },
      "source": [
        "<a href=\"https://colab.research.google.com/github/NehaKoppikar/OnlineShopping_ResearchPaper/blob/main/Analysis_OnlineShopping_ResearchPaper.ipynb\" target=\"_parent\"><img src=\"https://colab.research.google.com/assets/colab-badge.svg\" alt=\"Open In Colab\"/></a>"
      ]
    },
    {
      "cell_type": "markdown",
      "source": [
        "## Data Acquisition"
      ],
      "metadata": {
        "id": "i2qUXSqFxSf_"
      }
    },
    {
      "cell_type": "code",
      "execution_count": null,
      "metadata": {
        "id": "g5F_4K4VxNjr",
        "colab": {
          "base_uri": "https://localhost:8080/",
          "height": 89
        },
        "outputId": "aa60cd9e-4e0f-4195-ef0a-53466800605f"
      },
      "outputs": [
        {
          "output_type": "execute_result",
          "data": {
            "text/plain": [
              "'from google.colab import auth \\nauth.authenticate_user()\\n\\nimport gspread\\nfrom google.auth import default\\ncreds, _ = default()\\n\\ngc = gspread.authorize(creds)\\n\\nworksheet = gc.open(\"Statistical_Survey_Form\").sheet1\\n\\n# get_all_values gives a list of rows.\\nrows = worksheet.get_all_values()\\nprint(rows)\\n\\n# Convert to a DataFrame and render.\\nimport pandas as pd\\ndata = pd.DataFrame.from_records(rows)'"
            ],
            "application/vnd.google.colaboratory.intrinsic+json": {
              "type": "string"
            }
          },
          "metadata": {},
          "execution_count": 13
        }
      ],
      "source": [
        "# Data Acquistion \n",
        "\"\"\"from google.colab import auth \n",
        "auth.authenticate_user()\n",
        "\n",
        "import gspread\n",
        "from google.auth import default\n",
        "creds, _ = default()\n",
        "\n",
        "gc = gspread.authorize(creds)\n",
        "\n",
        "worksheet = gc.open(\"Statistical_Survey_Form\").sheet1\n",
        "\n",
        "# get_all_values gives a list of rows.\n",
        "rows = worksheet.get_all_values()\n",
        "print(rows)\n",
        "\n",
        "# Convert to a DataFrame and render.\n",
        "import pandas as pd\n",
        "data = pd.DataFrame.from_records(rows)\"\"\""
      ]
    },
    {
      "cell_type": "code",
      "source": [
        "import pandas as pd\n",
        "\n",
        "#url = \"https://raw.githubusercontent.com/NehaKoppikar/OnlineShopping_ResearchPaper/main/Statistical%20Survey%20Form%20.csv\"\n",
        "data = pd.read_csv(\"/content/Statistical Survey Form .csv\")\n",
        "data.head()"
      ],
      "metadata": {
        "colab": {
          "base_uri": "https://localhost:8080/",
          "height": 704
        },
        "id": "jCnFKFCOlRoN",
        "outputId": "a4026f32-d276-44fe-849b-8cd992cdee72"
      },
      "execution_count": null,
      "outputs": [
        {
          "output_type": "execute_result",
          "data": {
            "text/plain": [
              "                        Timestamp Name (Optional)           Education  \\\n",
              "0  2018/10/01 4:17:15 PM GMT+5:30              DK  Pursuing Bachelors   \n",
              "1  2018/10/01 5:49:45 PM GMT+5:30  Izuku Midoriya  Pursuing Bachelors   \n",
              "2  2018/10/01 5:51:22 PM GMT+5:30             NaN  Pursuing Bachelors   \n",
              "3  2018/10/01 5:52:47 PM GMT+5:30             NaN  Pursuing Bachelors   \n",
              "4  2018/10/01 6:03:32 PM GMT+5:30        Sandesh            Graduated   \n",
              "\n",
              "  Age Group  Gender  \\\n",
              "0   18 - 24  Female   \n",
              "1   18 - 24    Male   \n",
              "2   18 - 24    Male   \n",
              "3   18 - 24  Female   \n",
              "4   25 - 34    Male   \n",
              "\n",
              "  Tick the Social networking apps/Websites you use on regular basis   \\\n",
              "0       Facebook;Whatsapp;Instagram;Twitter;Snapchat                   \n",
              "1                            Whatsapp;LinkedIn;Quora                   \n",
              "2               Facebook;Whatsapp;Instagram;Snapchat                   \n",
              "3               Facebook;Whatsapp;Instagram;Snapchat                   \n",
              "4                   Facebook;Whatsapp;Telegram;Quora                   \n",
              "\n",
              "                     Preferred mode of Entertainment  \\\n",
              "0  Online - Mobile App or Websites like JioTv, Ho...   \n",
              "1  Online - Mobile App or Websites like JioTv, Ho...   \n",
              "2  Online - Mobile App or Websites like JioTv, Ho...   \n",
              "3  Online - Mobile App or Websites like JioTv, Ho...   \n",
              "4                  Offline - Cable TV or Cinema hall   \n",
              "\n",
              "  How much time do you spend on Social media and Online Entertainment every day?  \\\n",
              "0                                        1 - 2 hours                               \n",
              "1                                   30 mins - 1 hour                               \n",
              "2                                        1 - 2 hours                               \n",
              "3                                        1 - 2 hours                               \n",
              "4                                        2 - 5 hours                               \n",
              "\n",
              "  Tick your most preferred Websites for online shopping  \\\n",
              "0                                    Amazon;Flipkart      \n",
              "1                       Amazon;Flipkart;Myntra;Shein      \n",
              "2                                    Amazon;Flipkart      \n",
              "3                           Amazon;Flipkart;TataCliq      \n",
              "4                                    Amazon;Flipkart      \n",
              "\n",
              "  Do you prefer Online shopping over Offline shopping?  \\\n",
              "0                                                Yes     \n",
              "1                                                Yes     \n",
              "2                                                Yes     \n",
              "3                                                 No     \n",
              "4                                                Yes     \n",
              "\n",
              "                       How often do you shop online?  \\\n",
              "0  Only on Special Occasions (eg. Birthdays, Anni...   \n",
              "1                      During Sale/Discounts Seasons   \n",
              "2                                         Frequently   \n",
              "3                                        Very Rarely   \n",
              "4                      During Sale/Discounts Seasons   \n",
              "\n",
              "  Preferred mode of Payment (Online & Offline)  \\\n",
              "0                                   Debit Card   \n",
              "1   COD - Cash On Delivery for Online shopping   \n",
              "2   COD - Cash On Delivery for Online shopping   \n",
              "3                                  Net Banking   \n",
              "4                                  Credit Card   \n",
              "\n",
              "  Total money spent in one purchase in Rupees (Online & Offline)  \n",
              "0                                        1000 - 3000              \n",
              "1                                        1000 - 3000              \n",
              "2                                         500 - 1000              \n",
              "3                                        1000 - 3000              \n",
              "4                                         500 - 1000              "
            ],
            "text/html": [
              "\n",
              "  <div id=\"df-1ee180a8-ba0a-44a6-95a0-04fd6aa44daa\">\n",
              "    <div class=\"colab-df-container\">\n",
              "      <div>\n",
              "<style scoped>\n",
              "    .dataframe tbody tr th:only-of-type {\n",
              "        vertical-align: middle;\n",
              "    }\n",
              "\n",
              "    .dataframe tbody tr th {\n",
              "        vertical-align: top;\n",
              "    }\n",
              "\n",
              "    .dataframe thead th {\n",
              "        text-align: right;\n",
              "    }\n",
              "</style>\n",
              "<table border=\"1\" class=\"dataframe\">\n",
              "  <thead>\n",
              "    <tr style=\"text-align: right;\">\n",
              "      <th></th>\n",
              "      <th>Timestamp</th>\n",
              "      <th>Name (Optional)</th>\n",
              "      <th>Education</th>\n",
              "      <th>Age Group</th>\n",
              "      <th>Gender</th>\n",
              "      <th>Tick the Social networking apps/Websites you use on regular basis</th>\n",
              "      <th>Preferred mode of Entertainment</th>\n",
              "      <th>How much time do you spend on Social media and Online Entertainment every day?</th>\n",
              "      <th>Tick your most preferred Websites for online shopping</th>\n",
              "      <th>Do you prefer Online shopping over Offline shopping?</th>\n",
              "      <th>How often do you shop online?</th>\n",
              "      <th>Preferred mode of Payment (Online &amp; Offline)</th>\n",
              "      <th>Total money spent in one purchase in Rupees (Online &amp; Offline)</th>\n",
              "    </tr>\n",
              "  </thead>\n",
              "  <tbody>\n",
              "    <tr>\n",
              "      <th>0</th>\n",
              "      <td>2018/10/01 4:17:15 PM GMT+5:30</td>\n",
              "      <td>DK</td>\n",
              "      <td>Pursuing Bachelors</td>\n",
              "      <td>18 - 24</td>\n",
              "      <td>Female</td>\n",
              "      <td>Facebook;Whatsapp;Instagram;Twitter;Snapchat</td>\n",
              "      <td>Online - Mobile App or Websites like JioTv, Ho...</td>\n",
              "      <td>1 - 2 hours</td>\n",
              "      <td>Amazon;Flipkart</td>\n",
              "      <td>Yes</td>\n",
              "      <td>Only on Special Occasions (eg. Birthdays, Anni...</td>\n",
              "      <td>Debit Card</td>\n",
              "      <td>1000 - 3000</td>\n",
              "    </tr>\n",
              "    <tr>\n",
              "      <th>1</th>\n",
              "      <td>2018/10/01 5:49:45 PM GMT+5:30</td>\n",
              "      <td>Izuku Midoriya</td>\n",
              "      <td>Pursuing Bachelors</td>\n",
              "      <td>18 - 24</td>\n",
              "      <td>Male</td>\n",
              "      <td>Whatsapp;LinkedIn;Quora</td>\n",
              "      <td>Online - Mobile App or Websites like JioTv, Ho...</td>\n",
              "      <td>30 mins - 1 hour</td>\n",
              "      <td>Amazon;Flipkart;Myntra;Shein</td>\n",
              "      <td>Yes</td>\n",
              "      <td>During Sale/Discounts Seasons</td>\n",
              "      <td>COD - Cash On Delivery for Online shopping</td>\n",
              "      <td>1000 - 3000</td>\n",
              "    </tr>\n",
              "    <tr>\n",
              "      <th>2</th>\n",
              "      <td>2018/10/01 5:51:22 PM GMT+5:30</td>\n",
              "      <td>NaN</td>\n",
              "      <td>Pursuing Bachelors</td>\n",
              "      <td>18 - 24</td>\n",
              "      <td>Male</td>\n",
              "      <td>Facebook;Whatsapp;Instagram;Snapchat</td>\n",
              "      <td>Online - Mobile App or Websites like JioTv, Ho...</td>\n",
              "      <td>1 - 2 hours</td>\n",
              "      <td>Amazon;Flipkart</td>\n",
              "      <td>Yes</td>\n",
              "      <td>Frequently</td>\n",
              "      <td>COD - Cash On Delivery for Online shopping</td>\n",
              "      <td>500 - 1000</td>\n",
              "    </tr>\n",
              "    <tr>\n",
              "      <th>3</th>\n",
              "      <td>2018/10/01 5:52:47 PM GMT+5:30</td>\n",
              "      <td>NaN</td>\n",
              "      <td>Pursuing Bachelors</td>\n",
              "      <td>18 - 24</td>\n",
              "      <td>Female</td>\n",
              "      <td>Facebook;Whatsapp;Instagram;Snapchat</td>\n",
              "      <td>Online - Mobile App or Websites like JioTv, Ho...</td>\n",
              "      <td>1 - 2 hours</td>\n",
              "      <td>Amazon;Flipkart;TataCliq</td>\n",
              "      <td>No</td>\n",
              "      <td>Very Rarely</td>\n",
              "      <td>Net Banking</td>\n",
              "      <td>1000 - 3000</td>\n",
              "    </tr>\n",
              "    <tr>\n",
              "      <th>4</th>\n",
              "      <td>2018/10/01 6:03:32 PM GMT+5:30</td>\n",
              "      <td>Sandesh</td>\n",
              "      <td>Graduated</td>\n",
              "      <td>25 - 34</td>\n",
              "      <td>Male</td>\n",
              "      <td>Facebook;Whatsapp;Telegram;Quora</td>\n",
              "      <td>Offline - Cable TV or Cinema hall</td>\n",
              "      <td>2 - 5 hours</td>\n",
              "      <td>Amazon;Flipkart</td>\n",
              "      <td>Yes</td>\n",
              "      <td>During Sale/Discounts Seasons</td>\n",
              "      <td>Credit Card</td>\n",
              "      <td>500 - 1000</td>\n",
              "    </tr>\n",
              "  </tbody>\n",
              "</table>\n",
              "</div>\n",
              "      <button class=\"colab-df-convert\" onclick=\"convertToInteractive('df-1ee180a8-ba0a-44a6-95a0-04fd6aa44daa')\"\n",
              "              title=\"Convert this dataframe to an interactive table.\"\n",
              "              style=\"display:none;\">\n",
              "        \n",
              "  <svg xmlns=\"http://www.w3.org/2000/svg\" height=\"24px\"viewBox=\"0 0 24 24\"\n",
              "       width=\"24px\">\n",
              "    <path d=\"M0 0h24v24H0V0z\" fill=\"none\"/>\n",
              "    <path d=\"M18.56 5.44l.94 2.06.94-2.06 2.06-.94-2.06-.94-.94-2.06-.94 2.06-2.06.94zm-11 1L8.5 8.5l.94-2.06 2.06-.94-2.06-.94L8.5 2.5l-.94 2.06-2.06.94zm10 10l.94 2.06.94-2.06 2.06-.94-2.06-.94-.94-2.06-.94 2.06-2.06.94z\"/><path d=\"M17.41 7.96l-1.37-1.37c-.4-.4-.92-.59-1.43-.59-.52 0-1.04.2-1.43.59L10.3 9.45l-7.72 7.72c-.78.78-.78 2.05 0 2.83L4 21.41c.39.39.9.59 1.41.59.51 0 1.02-.2 1.41-.59l7.78-7.78 2.81-2.81c.8-.78.8-2.07 0-2.86zM5.41 20L4 18.59l7.72-7.72 1.47 1.35L5.41 20z\"/>\n",
              "  </svg>\n",
              "      </button>\n",
              "      \n",
              "  <style>\n",
              "    .colab-df-container {\n",
              "      display:flex;\n",
              "      flex-wrap:wrap;\n",
              "      gap: 12px;\n",
              "    }\n",
              "\n",
              "    .colab-df-convert {\n",
              "      background-color: #E8F0FE;\n",
              "      border: none;\n",
              "      border-radius: 50%;\n",
              "      cursor: pointer;\n",
              "      display: none;\n",
              "      fill: #1967D2;\n",
              "      height: 32px;\n",
              "      padding: 0 0 0 0;\n",
              "      width: 32px;\n",
              "    }\n",
              "\n",
              "    .colab-df-convert:hover {\n",
              "      background-color: #E2EBFA;\n",
              "      box-shadow: 0px 1px 2px rgba(60, 64, 67, 0.3), 0px 1px 3px 1px rgba(60, 64, 67, 0.15);\n",
              "      fill: #174EA6;\n",
              "    }\n",
              "\n",
              "    [theme=dark] .colab-df-convert {\n",
              "      background-color: #3B4455;\n",
              "      fill: #D2E3FC;\n",
              "    }\n",
              "\n",
              "    [theme=dark] .colab-df-convert:hover {\n",
              "      background-color: #434B5C;\n",
              "      box-shadow: 0px 1px 3px 1px rgba(0, 0, 0, 0.15);\n",
              "      filter: drop-shadow(0px 1px 2px rgba(0, 0, 0, 0.3));\n",
              "      fill: #FFFFFF;\n",
              "    }\n",
              "  </style>\n",
              "\n",
              "      <script>\n",
              "        const buttonEl =\n",
              "          document.querySelector('#df-1ee180a8-ba0a-44a6-95a0-04fd6aa44daa button.colab-df-convert');\n",
              "        buttonEl.style.display =\n",
              "          google.colab.kernel.accessAllowed ? 'block' : 'none';\n",
              "\n",
              "        async function convertToInteractive(key) {\n",
              "          const element = document.querySelector('#df-1ee180a8-ba0a-44a6-95a0-04fd6aa44daa');\n",
              "          const dataTable =\n",
              "            await google.colab.kernel.invokeFunction('convertToInteractive',\n",
              "                                                     [key], {});\n",
              "          if (!dataTable) return;\n",
              "\n",
              "          const docLinkHtml = 'Like what you see? Visit the ' +\n",
              "            '<a target=\"_blank\" href=https://colab.research.google.com/notebooks/data_table.ipynb>data table notebook</a>'\n",
              "            + ' to learn more about interactive tables.';\n",
              "          element.innerHTML = '';\n",
              "          dataTable['output_type'] = 'display_data';\n",
              "          await google.colab.output.renderOutput(dataTable, element);\n",
              "          const docLink = document.createElement('div');\n",
              "          docLink.innerHTML = docLinkHtml;\n",
              "          element.appendChild(docLink);\n",
              "        }\n",
              "      </script>\n",
              "    </div>\n",
              "  </div>\n",
              "  "
            ]
          },
          "metadata": {},
          "execution_count": 12
        }
      ]
    },
    {
      "cell_type": "markdown",
      "source": [
        "## Exploratory Data Analysis"
      ],
      "metadata": {
        "id": "sNliIHirxfHH"
      }
    },
    {
      "cell_type": "code",
      "source": [
        ""
      ],
      "metadata": {
        "id": "BZHSl1LdxmCk"
      },
      "execution_count": null,
      "outputs": []
    },
    {
      "cell_type": "markdown",
      "source": [
        "## Statistical Analysis"
      ],
      "metadata": {
        "id": "X6j-thjKxmkO"
      }
    },
    {
      "cell_type": "code",
      "source": [
        ""
      ],
      "metadata": {
        "id": "DCTyRi0FxvYK"
      },
      "execution_count": null,
      "outputs": []
    },
    {
      "cell_type": "markdown",
      "source": [
        "## ML Modelling"
      ],
      "metadata": {
        "id": "kZzDyl6Dxv30"
      }
    },
    {
      "cell_type": "code",
      "source": [
        ""
      ],
      "metadata": {
        "id": "u7-jXsZfxyX7"
      },
      "execution_count": null,
      "outputs": []
    },
    {
      "cell_type": "markdown",
      "source": [
        "## Inference and Results Discussion"
      ],
      "metadata": {
        "id": "9UMpkvGixy9_"
      }
    },
    {
      "cell_type": "code",
      "source": [
        ""
      ],
      "metadata": {
        "id": "n2d3nse_x7Tq"
      },
      "execution_count": null,
      "outputs": []
    }
  ]
}